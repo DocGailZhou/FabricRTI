{
 "cells": [
  {
   "cell_type": "markdown",
   "id": "42bd8f7c-d5cd-42ba-b746-bfe7949fec26",
   "metadata": {
    "microsoft": {
     "language": "python",
     "language_group": "synapse_pyspark"
    },
    "nteract": {
     "transient": {
      "deleting": false
     }
    }
   },
   "source": [
    "# Install Event Hub packages"
   ]
  },
  {
   "cell_type": "code",
   "execution_count": null,
   "id": "e38df10e-0e1b-4ebe-bda5-af8766b8eb0e",
   "metadata": {
    "microsoft": {
     "language": "python",
     "language_group": "synapse_pyspark"
    }
   },
   "outputs": [
    {
     "data": {
      "application/vnd.livy.statement-meta+json": {
       "execution_finish_time": null,
       "execution_start_time": null,
       "livy_statement_state": null,
       "normalized_state": "waiting",
       "parent_msg_id": "9ccee7d6-1a00-4fb3-836b-36bd62c8c86a",
       "queued_time": "2025-09-09T15:06:37.9906588Z",
       "session_id": null,
       "session_start_time": null,
       "spark_pool": null,
       "state": "waiting",
       "statement_id": -1,
       "statement_ids": null
      },
      "text/plain": [
       "StatementMeta(, , -1, Waiting, , Waiting)"
      ]
     },
     "metadata": {},
     "output_type": "display_data"
    }
   ],
   "source": [
    "! python --version\n",
    "\n",
    "! pip install azure-eventhub==5.11.5 azure-identity --upgrade --force --quiet"
   ]
  },
  {
   "cell_type": "markdown",
   "id": "216da352-f609-4514-96ce-38a7ba1e55d6",
   "metadata": {
    "microsoft": {
     "language": "python",
     "language_group": "synapse_pyspark"
    },
    "nteract": {
     "transient": {
      "deleting": false
     }
    }
   },
   "source": [
    "# Connect to Event Stream"
   ]
  },
  {
   "cell_type": "markdown",
   "id": "4be205b8",
   "metadata": {},
   "source": [
    "## Azure Managed Identity Setup Requirements\n",
    "\n",
    "**For this to work, you need to:**\n",
    "\n",
    "1. **Enable Managed Identity** on your Azure service:\n",
    "   - Azure App Service: Go to Identity → System assigned → On\n",
    "   - Azure Function App: Go to Identity → System assigned → On  \n",
    "   - Azure Kubernetes Service (AKS): Use Azure AD Pod Identity or Workload Identity\n",
    "   - Azure VM: Enable system-assigned managed identity\n",
    "\n",
    "2. **Grant permissions** to your Event Hub:\n",
    "   - Go to your Event Hub Namespace → Access control (IAM)\n",
    "   - Add role assignment: \"Azure Event Hubs Data Sender\"\n",
    "   - Assign to your managed identity\n",
    "\n",
    "3. **For local development:**\n",
    "   - Install Azure CLI: `az login` \n",
    "   - Or use Visual Studio/VS Code Azure authentication\n",
    "   - `DefaultAzureCredential()` will automatically use your local credentials\n",
    "\n",
    "**No connection strings or secrets needed!** 🔒"
   ]
  },
  {
   "cell_type": "code",
   "execution_count": null,
   "id": "780a71ce-ffca-4714-b484-94c236979857",
   "metadata": {
    "microsoft": {
     "language": "python",
     "language_group": "synapse_pyspark"
    }
   },
   "outputs": [
    {
     "data": {
      "application/vnd.livy.statement-meta+json": {
       "execution_finish_time": null,
       "execution_start_time": null,
       "livy_statement_state": null,
       "normalized_state": "waiting",
       "parent_msg_id": "9225835c-d6b6-43a2-9cbd-71f9b766d94d",
       "queued_time": "2025-09-09T15:06:37.9926626Z",
       "session_id": null,
       "session_start_time": null,
       "spark_pool": null,
       "state": "waiting",
       "statement_id": -1,
       "statement_ids": null
      },
      "text/plain": [
       "StatementMeta(, , -1, Waiting, , Waiting)"
      ]
     },
     "metadata": {},
     "output_type": "display_data"
    }
   ],
   "source": [
    "import json\n",
    "import os\n",
    "import socket\n",
    "import random\n",
    "from random import randrange\n",
    "from azure.eventhub import EventHubProducerClient, EventData\n",
    "from azure.identity import DefaultAzureCredential\n",
    "\n",
    "# Azure Managed Identity Configuration (Secure - No hardcoded secrets)\n",
    "# Note: This health notebook uses a different Event Hub than the other notebooks\n",
    "eventhub_namespace = \"esehmtcyxemzzhm8ha9l9aso.servicebus.windows.net\"\n",
    "eventhub_name = \"es_553da34c-8ede-46e5-9983-403ca1417cd1\"\n",
    "\n",
    "# Use Azure Managed Identity for authentication\n",
    "credential = DefaultAzureCredential()\n",
    "producer_events = EventHubProducerClient(\n",
    "    fully_qualified_namespace=eventhub_namespace,\n",
    "    eventhub_name=eventhub_name,\n",
    "    credential=credential\n",
    ")\n",
    "\n",
    "hostname = socket.gethostname()\n",
    "print(f\"Connected to Health Event Hub using Azure Managed Identity from {hostname}\")\n",
    "print(f\"Event Hub: {eventhub_name}\")\n",
    "print(f\"Namespace: {eventhub_namespace}\")"
   ]
  },
  {
   "cell_type": "code",
   "execution_count": null,
   "id": "b394077a",
   "metadata": {},
   "outputs": [],
   "source": [
    "# Test the Managed Identity connection for Health Event Hub\n",
    "try:\n",
    "    # Try to create a test batch to verify connection\n",
    "    test_batch = producer_events.create_batch()\n",
    "    print(\"✅ Azure Managed Identity authentication successful!\")\n",
    "    print(f\"✅ Connected to Health Event Hub: {eventhub_name}\")\n",
    "    print(f\"✅ Namespace: {eventhub_namespace}\")\n",
    "    print(\"✅ Ready to send health/hospital data events securely\")\n",
    "except Exception as e:\n",
    "    print(\"❌ Managed Identity authentication failed!\")\n",
    "    print(f\"Error: {e}\")\n",
    "    print(\"\\n🔧 Troubleshooting steps:\")\n",
    "    print(\"1. Ensure Managed Identity is enabled on your Azure service\")\n",
    "    print(\"2. Grant 'Azure Event Hubs Data Sender' role to the managed identity\")\n",
    "    print(\"3. For local development, run 'az login' first\")\n",
    "    print(\"4. Check that the Event Hub namespace and name are correct\")\n",
    "    print(\"5. Verify this health Event Hub exists and is accessible\")"
   ]
  },
  {
   "cell_type": "markdown",
   "id": "94109fc3-196b-4d14-b3c8-ddd7d8bfde50",
   "metadata": {
    "microsoft": {
     "language": "python",
     "language_group": "synapse_pyspark"
    },
    "nteract": {
     "transient": {
      "deleting": false
     }
    }
   },
   "source": [
    "# Send events to Event Stream"
   ]
  },
  {
   "cell_type": "code",
   "execution_count": null,
   "id": "00c764f1-ce23-45c9-8820-c97402f3e6cd",
   "metadata": {
    "microsoft": {
     "language": "python",
     "language_group": "synapse_pyspark"
    }
   },
   "outputs": [
    {
     "data": {
      "application/vnd.livy.statement-meta+json": {
       "execution_finish_time": null,
       "execution_start_time": null,
       "livy_statement_state": null,
       "normalized_state": "waiting",
       "parent_msg_id": "b81951d4-2c16-44c4-9ad1-edf966a4fefd",
       "queued_time": "2025-09-09T15:06:37.9941641Z",
       "session_id": null,
       "session_start_time": null,
       "spark_pool": null,
       "state": "waiting",
       "statement_id": -1,
       "statement_ids": null
      },
      "text/plain": [
       "StatementMeta(, , -1, Waiting, , Waiting)"
      ]
     },
     "metadata": {},
     "output_type": "display_data"
    }
   ],
   "source": [
    "def sendToEventsHub(jsonEvent, producer):\n",
    "    eventString = json.dumps(jsonEvent)\n",
    "    #print(eventString) \n",
    "    event_data_batch = producer.create_batch() \n",
    "    event_data_batch.add(EventData(eventString)) \n",
    "    producer.send_batch(event_data_batch)"
   ]
  },
  {
   "cell_type": "markdown",
   "id": "044e69a2-f582-438c-85b4-4defb78566ca",
   "metadata": {
    "microsoft": {
     "language": "python",
     "language_group": "synapse_pyspark"
    },
    "nteract": {
     "transient": {
      "deleting": false
     }
    }
   },
   "source": [
    "# Wrapper to generate events and send to event Hub"
   ]
  },
  {
   "cell_type": "code",
   "execution_count": null,
   "id": "0b16187d-e832-4d48-b58b-923ca8983e62",
   "metadata": {
    "microsoft": {
     "language": "python",
     "language_group": "synapse_pyspark"
    }
   },
   "outputs": [
    {
     "data": {
      "application/vnd.livy.statement-meta+json": {
       "execution_finish_time": null,
       "execution_start_time": null,
       "livy_statement_state": null,
       "normalized_state": "waiting",
       "parent_msg_id": "3248f940-8f53-4923-bb1d-d70929c1773e",
       "queued_time": "2025-09-09T15:06:37.9955069Z",
       "session_id": null,
       "session_start_time": null,
       "spark_pool": null,
       "state": "waiting",
       "statement_id": -1,
       "statement_ids": null
      },
      "text/plain": [
       "StatementMeta(, , -1, Waiting, , Waiting)"
      ]
     },
     "metadata": {},
     "output_type": "display_data"
    }
   ],
   "source": [
    "Hospital_Departments = {\n",
    "  \"Cardiology\": {\n",
    "    \"department_code\": \"DGBW\"\n",
    "  },\n",
    "  \"Neurology\": {\n",
    "    \"department_code\": \"H0RU\"\n",
    "  },\n",
    "  \"Oncology\": {\n",
    "    \"department_code\": \"76VC\"\n",
    "  },\n",
    "  \"Pediatrics\": {\n",
    "    \"department_code\": \"A9KZ\"\n",
    "  },\n",
    "  \"Radiology\": {\n",
    "    \"department_code\": \"CR8E\"\n",
    "  },\n",
    "  \"Orthopedics\": {\n",
    "    \"department_code\": \"VUG0\"\n",
    "  },\n",
    "  \"Emergency\": {\n",
    "    \"department_code\": \"663P\"\n",
    "  },\n",
    "  \"Dermatology\": {\n",
    "    \"department_code\": \"8450\"\n",
    "  },\n",
    "  \"Gastroenterology\": {\n",
    "    \"department_code\": \"Z8IG\"\n",
    "  },\n",
    "  \"Urology\": {\n",
    "    \"department_code\": \"72RR\",\n",
    "  }\n",
    "}"
   ]
  },
  {
   "cell_type": "markdown",
   "id": "74ab4baf",
   "metadata": {},
   "source": []
  },
  {
   "cell_type": "code",
   "execution_count": null,
   "id": "e0fcdf9c-aca7-4b9a-9bd7-44ea830634ae",
   "metadata": {
    "jupyter": {
     "outputs_hidden": false
    },
    "microsoft": {
     "language": "python",
     "language_group": "synapse_pyspark"
    }
   },
   "outputs": [
    {
     "data": {
      "application/vnd.livy.statement-meta+json": {
       "execution_finish_time": null,
       "execution_start_time": null,
       "livy_statement_state": null,
       "normalized_state": "waiting",
       "parent_msg_id": "a50faa02-fd68-4253-b436-1b6981800738",
       "queued_time": "2025-09-09T15:06:37.9969926Z",
       "session_id": null,
       "session_start_time": null,
       "spark_pool": null,
       "state": "waiting",
       "statement_id": -1,
       "statement_ids": null
      },
      "text/plain": [
       "StatementMeta(, , -1, Waiting, , Waiting)"
      ]
     },
     "metadata": {},
     "output_type": "display_data"
    }
   ],
   "source": [
    "import random, math, json\n",
    "import random\n",
    "import time\n",
    "import uuid\n",
    "from datetime import datetime, timedelta\n",
    "\n",
    "class ContosoHospitalSimulator:\n",
    "    def __init__(self, current_time_pas):\n",
    "        ## self.grid_id = grid_id\n",
    "        self.unique_id = str(uuid.uuid4())\n",
    "        self.current_time = current_time_pas\n",
    "\n",
    "    def log_event(self, activity, sensor_data):\n",
    "        event = {\n",
    "            \"timestamp\": self.current_time.strftime(\"%Y-%m-%d %H:%M:%S\"),\n",
    "            \"event_id\": self.unique_id,\n",
    "            \"source\": activity,\n",
    "            # \"grid_id\": grid_id,\n",
    "            \"sensor_data\": sensor_data\n",
    "        }\n",
    "        log_event = event\n",
    "        ##log_obj = json.dumps(log_event)\n",
    "        #impressionEvent = json_object    \n",
    "        sendToEventsHub(log_event, producer_events)\n",
    "        #print(log_event)\n",
    "\n",
    "    def get_sensor_data(self, source, Department, details):\n",
    "        #sources = [\"United Care-HMO\", \"Medicare\", \"Athens-HMO \", \"Self Pay\", \"Workers Comp\"]\n",
    "        data = {}\n",
    "\n",
    "        # for source in sources:\n",
    "        Billed_Amount = round(random.uniform(300, 500) if random.random() < 1/1000 else random.uniform(100, 300), 0)\n",
    "\n",
    "        # Ensure Collection Amount < Billed_Amount only 1 in 10 times\n",
    "        if random.random() > 1/20:\n",
    "            Collection_Amount = round(random.uniform(0.5 * Billed_Amount, Billed_Amount), 0)\n",
    "        else:\n",
    "            Collection_Amount = round(random.uniform(1.1 * Billed_Amount, 2 * Billed_Amount), 0)\n",
    "\n",
    "        # Calculate price based on the difference\n",
    "        percentage = round((Collection_Amount / Billed_Amount) * 100, 0)\n",
    "\n",
    "        if percentage < 70:\n",
    "            price = round(random.uniform(-10, 30), 0)\n",
    "        elif percentage < 80:\n",
    "            price = round(random.uniform(30, 50), 0)\n",
    "        elif percentage < 90:\n",
    "            price = round(random.uniform(50, 60), 0)\n",
    "        elif percentage < 100:\n",
    "            price = round(random.uniform(60, 100), 0)\n",
    "        else:\n",
    "            # print(\"greater\")\n",
    "            price = round(random.uniform((100 + ((percentage-100)/5)*10), 300), 0)\n",
    "\n",
    "        if source in [\"Self Pay\", \"Workers Comp\"]:\n",
    "            base_claims = 20\n",
    "            claims_multiplier = math.floor(max((Billed_Amount - 50),0) / 10)\n",
    "            Claims_Rejections = round(base_claims + claims_multiplier * 10, 0)    \n",
    "        else:\n",
    "            base_claims = 50\n",
    "            claims_multiplier = math.floor(max((Billed_Amount - 50),0) / 10)\n",
    "            Claims_Rejections = round(base_claims + claims_multiplier * 5, 0)\n",
    "\n",
    "        #print(Billed_Amount, Collection_Amount, percentage, price, Claims_Rejections)\n",
    "\n",
    "        data = {\n",
    "            \"Department\": Department,\n",
    "            \"department_code\":details['department_code'],\n",
    "            \"base_claims\":base_claims,\n",
    "            \"Billed_Amount\": Billed_Amount,\n",
    "            \"Collection_Amount\": Collection_Amount,\n",
    "            \"Claims_Rejections\": Claims_Rejections,\n",
    "        }\n",
    "\n",
    "        return data\n",
    "\n",
    "def simulate_hospital_data():\n",
    "    start_time = datetime.now() - timedelta(days=3)\n",
    "    counter = 0\n",
    "\n",
    "    while True:\n",
    "        for Department, details in Hospital_Departments.items():\n",
    "            current_time_pas = start_time + timedelta(seconds=80 * counter)\n",
    "            grid = ContosoHospitalSimulator(current_time_pas)\n",
    "\n",
    "            for src in [\"United Care-HMO\", \"Medicare\", \"Athens-HMO \", \"Self Pay\", \"Workers Comp\"]:\n",
    "                sensor_data = grid.get_sensor_data(src, Department, details)\n",
    "                grid.log_event(src, sensor_data)\n",
    "\n",
    "            counter += 1\n",
    "            print(f\"Counter: {counter}, Time: {current_time_pas}, Department: {Department}\")\n",
    "\n",
    "            # Determine if we need to sleep\n",
    "            if current_time_pas >= datetime.now():\n",
    "                time.sleep(80)\n",
    "            else:\n",
    "                time.sleep(1)\n",
    "simulate_hospital_data()"
   ]
  }
 ],
 "metadata": {
  "a365ComputeOptions": null,
  "dependencies": {
   "lakehouse": {
    "default_lakehouse": "f0864d71-ad0d-47ab-a89c-5ecdfa01a5e1",
    "default_lakehouse_name": "ContosoEnergyTrading",
    "default_lakehouse_workspace_id": "c98acd97-4363-4296-8323-b6ab21e53903",
    "known_lakehouses": [
     {
      "id": "f0864d71-ad0d-47ab-a89c-5ecdfa01a5e1"
     }
    ]
   }
  },
  "kernel_info": {
   "jupyter_kernel_name": null,
   "name": "synapse_pyspark"
  },
  "kernelspec": {
   "display_name": "Synapse PySpark",
   "language": "Python",
   "name": "synapse_pyspark"
  },
  "language_info": {
   "name": "python"
  },
  "microsoft": {
   "language": "python",
   "language_group": "synapse_pyspark",
   "ms_spell_check": {
    "ms_spell_check_language": "en"
   }
  },
  "nteract": {
   "version": "nteract-front-end@1.0.0"
  },
  "sessionKeepAliveTimeout": 0,
  "spark_compute": {
   "compute_id": "/trident/default",
   "session_options": {
    "conf": {
     "spark.synapse.nbs.session.timeout": "1200000"
    }
   }
  },
  "synapse_widget": {
   "state": {},
   "version": "0.1"
  }
 },
 "nbformat": 4,
 "nbformat_minor": 5
}
