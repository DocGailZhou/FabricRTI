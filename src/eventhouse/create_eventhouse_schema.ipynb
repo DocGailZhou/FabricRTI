{
 "cells": [
  {
   "cell_type": "markdown",
   "id": "95f31d8d",
   "metadata": {},
   "source": [
    "# EventHouse Schema Creation - RTI Solution Accelerator\n",
    "\n",
    "## Schema Structure\n",
    "- **Real-Time Events (3 main tables)**:\n",
    "  - ClickstreamEvents: E-commerce user interactions, cart activities, purchase events\n",
    "  - ManufacturingTelemetry: Equipment sensor data, temperature, vibration, defect rates  \n",
    "  - ShippingEvents: Package tracking, delivery status, location updates\n",
    "- **Reference Data (3 tables)**:\n",
    "  - Sites: Manufacturing site master data\n",
    "  - Assets: Equipment/machine reference data\n",
    "  - Carriers: Shipping carrier information\n",
    "- **Analytics (1 table)**:\n",
    "  - AnomalyDetectionResults: Real-time anomaly detection results\n",
    "\n",
    "## Automated Deployment\n",
    "This notebook automatically creates all EventHouse tables, JSON ingestion mappings, streaming policies, and retention policies.\n",
    "No manual copy-paste required - everything is executed programmatically."
   ]
  },
  {
   "cell_type": "code",
   "execution_count": null,
   "id": "e6f2c081",
   "metadata": {},
   "outputs": [],
   "source": [
    "# This is already installed in Fabric \n",
    "#!pip install Kqlmagic --no-cache-dir --upgrade"
   ]
  },
  {
   "cell_type": "code",
   "execution_count": null,
   "id": "00110306",
   "metadata": {},
   "outputs": [],
   "source": [
    "# STEP 1: Load Kqlmagic extension\n",
    "print(\"🔧 Loading Kqlmagic extension...\")\n",
    "%reload_ext Kqlmagic\n",
    "print(\"✅ Kqlmagic loaded successfully!\")"
   ]
  },
  {
   "cell_type": "code",
   "execution_count": null,
   "id": "4dcc7ad6",
   "metadata": {},
   "outputs": [],
   "source": [
    "# STEP 2: Configuration and Connection\n",
    "# 📋 REQUIRED: Get your connection details from Fabric first\n",
    "# \n",
    "# HOW TO GET CONNECTION INFO:\n",
    "# 1. Go to your Fabric workspace → fabrikam_eventhouse  \n",
    "# 2. Expand 'Database details' and copy the 'Query URI'\n",
    "# 3. The URI format is: https://<cluster>.kusto.fabric.microsoft.com/\n",
    "# 4. Extract cluster name from the URI and update CLUSTER_NAME below\n",
    "\n",
    "import sys\n",
    "import json\n",
    "import requests\n",
    "from datetime import datetime\n",
    "\n",
    "# EventHouse Configuration\n",
    "# In Fabric, EventHouse and Database have the same name\n",
    "EVENTHOUSE_NAME = \"fabrikam_eventhouse\"\n",
    "CLUSTER_NAME = \"trd-hvsyx3h9ej7989gfw7.z6\"\n",
    "\n",
    "print(f\"📋 STEP 2: Connecting to EventHouse\")\n",
    "print(f\"🏛️ Target EventHouse: {EVENTHOUSE_NAME}\")\n",
    "print(f\"🖥️ Target Cluster: {CLUSTER_NAME}\")\n",
    "\n",
    "# Note: In Fabric, connection is handled automatically when you run KQL commands\n",
    "print(\"✅ Configuration complete - ready to run KQL commands\")\n",
    "print(\"💡 Connection will be established automatically when running KQL cells\")"
   ]
  },
  {
   "cell_type": "code",
   "execution_count": null,
   "id": "622b6900",
   "metadata": {},
   "outputs": [],
   "source": [
    "################################################################################################\n",
    "# STEP 3: Connect to EventHouse and Validate Connection  \n",
    "################################################################################################\n",
    "\n",
    "# Connect to your EventHouse using the standard Fabric connection syntax\n",
    "%kql kusto://code;cluster='trd-hvsyx3h9ej7989gfw7.z6.kusto.fabric.microsoft.com';database='fabrikam_eventhouse'"
   ]
  },
  {
   "cell_type": "code",
   "execution_count": null,
   "id": "7704ed27",
   "metadata": {},
   "outputs": [],
   "source": [
    "################################################################################################\n",
    "# STEP 4: Validate Connection Context\n",
    "################################################################################################\n",
    "\n",
    "%%kql \n",
    ".show database"
   ]
  },
  {
   "cell_type": "code",
   "execution_count": null,
   "id": "ec59bc48",
   "metadata": {},
   "outputs": [],
   "source": [
    "################################################################################################\n",
    "# Real-Time Events Tables - Main data ingestion tables\n",
    "################################################################################################\n",
    "\n",
    "print(\"📊 Creating real-time events tables...\")"
   ]
  },
  {
   "cell_type": "code",
   "execution_count": null,
   "id": "c2d3e226",
   "metadata": {},
   "outputs": [],
   "source": [
    "%%kql\n",
    ".create table ClickstreamEvents (\n",
    "    event_id: string,\n",
    "    timestamp: datetime,\n",
    "    event_type: string,\n",
    "    user_id: string,\n",
    "    session_id: string,\n",
    "    sku: string,\n",
    "    country: string,\n",
    "    country_code: string,\n",
    "    referral_source_type: string,\n",
    "    referral_platform: string,\n",
    "    product_id: string,\n",
    "    spike_flag: bool,\n",
    "    cart_spike_magnitude: int,\n",
    "    client_info: dynamic,\n",
    "    payload: dynamic\n",
    ")"
   ]
  },
  {
   "cell_type": "code",
   "execution_count": null,
   "id": "c2d4bbe9",
   "metadata": {},
   "outputs": [],
   "source": [
    "%%kql\n",
    ".create table ManufacturingTelemetry (\n",
    "    event_type: string,\n",
    "    timestamp: datetime,\n",
    "    SiteId: string,\n",
    "    City: string,\n",
    "    AssetId: string,\n",
    "    OperatorId: string,\n",
    "    OperatorName: string,\n",
    "    ProductId: string,\n",
    "    SKU: string,\n",
    "    BatchId: string,\n",
    "    DefectProbability: real,\n",
    "    Vibration: real,\n",
    "    Temperature: real,\n",
    "    Humidity: int\n",
    ")"
   ]
  },
  {
   "cell_type": "code",
   "execution_count": null,
   "id": "d2bc4089",
   "metadata": {},
   "outputs": [],
   "source": [
    "%%kql\n",
    ".create table ShippingEvents (\n",
    "    event_id: string,\n",
    "    timestamp: datetime,\n",
    "    event_type: string,\n",
    "    tracking_number: string,\n",
    "    shipment_id: string,\n",
    "    origin_location: string,\n",
    "    destination_location: string,\n",
    "    carrier: string,\n",
    "    package_weight: real,\n",
    "    estimated_delivery: datetime,\n",
    "    actual_delivery: datetime,\n",
    "    delay_minutes: int,\n",
    "    status: string,\n",
    "    location_coordinates: dynamic\n",
    ")"
   ]
  },
  {
   "cell_type": "code",
   "execution_count": null,
   "id": "2649b5f4",
   "metadata": {},
   "outputs": [],
   "source": [
    "################################################################################################\n",
    "# Reference Data Tables - Master data for lookups\n",
    "################################################################################################\n",
    "\n",
    "print(\"🗂️ Creating reference data tables...\")"
   ]
  },
  {
   "cell_type": "code",
   "execution_count": null,
   "id": "e80453bd",
   "metadata": {},
   "outputs": [],
   "source": [
    "%%kql\n",
    ".create table Sites (\n",
    "    SiteId: string,\n",
    "    City: string,\n",
    "    Country: string,\n",
    "    Region: string,\n",
    "    Latitude: real,\n",
    "    Longitude: real\n",
    ")\n",
    "\n",
    ".create table Assets (\n",
    "    AssetId: string,\n",
    "    AssetName: string,\n",
    "    AssetType: string,\n",
    "    SiteId: string,\n",
    "    InstallationDate: datetime,\n",
    "    MaintenanceSchedule: string\n",
    ")\n",
    "\n",
    ".create table Carriers (\n",
    "    CarrierId: string,\n",
    "    CarrierName: string,\n",
    "    ServiceLevel: string,\n",
    "    Coverage_Area: string,\n",
    "    AvgDeliveryTime: int\n",
    ")"
   ]
  },
  {
   "cell_type": "code",
   "execution_count": null,
   "id": "6b6aecd6",
   "metadata": {},
   "outputs": [],
   "source": [
    "%%kql\n",
    ".create table AnomalyDetectionResults (\n",
    "    timestamp: datetime,\n",
    "    anomaly_type: string,\n",
    "    source_table: string,\n",
    "    entity_id: string,\n",
    "    anomaly_score: real,\n",
    "    baseline_value: real,\n",
    "    current_value: real,\n",
    "    severity: string,\n",
    "    description: string,\n",
    "    metadata: dynamic\n",
    ")"
   ]
  },
  {
   "cell_type": "code",
   "execution_count": null,
   "id": "43477b86",
   "metadata": {},
   "outputs": [],
   "source": [
    "################################################################################################\n",
    "# JSON Ingestion Mappings - Configure data ingestion from simulators\n",
    "################################################################################################\n",
    "\n",
    "print(\"🗂️ Creating JSON ingestion mappings...\")"
   ]
  },
  {
   "cell_type": "code",
   "execution_count": null,
   "id": "80279e68",
   "metadata": {},
   "outputs": [],
   "source": [
    "%%kql\n",
    ".create table ClickstreamEvents ingestion json mapping \"ClickstreamMapping\"\n",
    "'['\n",
    "'    {\"column\":\"event_id\",\"path\":\"$.event_id\"},'\n",
    "'    {\"column\":\"timestamp\",\"path\":\"$.timestamp\"},'\n",
    "'    {\"column\":\"event_type\",\"path\":\"$.event_type\"},'\n",
    "'    {\"column\":\"user_id\",\"path\":\"$.user_id\"},'\n",
    "'    {\"column\":\"session_id\",\"path\":\"$.session_id\"},'\n",
    "'    {\"column\":\"sku\",\"path\":\"$.sku\"},'\n",
    "'    {\"column\":\"country\",\"path\":\"$.country\"},'\n",
    "'    {\"column\":\"country_code\",\"path\":\"$.country_code\"},'\n",
    "'    {\"column\":\"referral_source_type\",\"path\":\"$.referral_source_type\"},'\n",
    "'    {\"column\":\"referral_platform\",\"path\":\"$.referral_platform\"},'\n",
    "'    {\"column\":\"product_id\",\"path\":\"$.product_id\"},'\n",
    "'    {\"column\":\"spike_flag\",\"path\":\"$.spike_flag\"},'\n",
    "'    {\"column\":\"cart_spike_magnitude\",\"path\":\"$.cart_spike_magnitude\"},'\n",
    "'    {\"column\":\"client_info\",\"path\":\"$.client_info\"},'\n",
    "'    {\"column\":\"payload\",\"path\":\"$.payload\"}'\n",
    "']'"
   ]
  },
  {
   "cell_type": "code",
   "execution_count": null,
   "id": "b3541b74",
   "metadata": {},
   "outputs": [],
   "source": [
    "%%kql\n",
    ".create table ManufacturingTelemetry ingestion json mapping \"ManufacturingMapping\"\n",
    "'['\n",
    "'    {\"column\":\"event_type\",\"path\":\"$.event_type\"},'\n",
    "'    {\"column\":\"timestamp\",\"path\":\"$.timestamp\"},'\n",
    "'    {\"column\":\"SiteId\",\"path\":\"$.SiteId\"},'\n",
    "'    {\"column\":\"City\",\"path\":\"$.City\"},'\n",
    "'    {\"column\":\"AssetId\",\"path\":\"$.AssetId\"},'\n",
    "'    {\"column\":\"OperatorId\",\"path\":\"$.OperatorId\"},'\n",
    "'    {\"column\":\"OperatorName\",\"path\":\"$.OperatorName\"},'\n",
    "'    {\"column\":\"ProductId\",\"path\":\"$.ProductId\"},'\n",
    "'    {\"column\":\"SKU\",\"path\":\"$.SKU\"},'\n",
    "'    {\"column\":\"BatchId\",\"path\":\"$.BatchId\"},'\n",
    "'    {\"column\":\"DefectProbability\",\"path\":\"$.DefectProbability\"},'\n",
    "'    {\"column\":\"Vibration\",\"path\":\"$.Vibration\"},'\n",
    "'    {\"column\":\"Temperature\",\"path\":\"$.Temperature\"},'\n",
    "'    {\"column\":\"Humidity\",\"path\":\"$.Humidity\"}'\n",
    "']'"
   ]
  },
  {
   "cell_type": "code",
   "execution_count": null,
   "id": "53301d33",
   "metadata": {},
   "outputs": [],
   "source": [
    "%%kql\n",
    ".create table ShippingEvents ingestion json mapping \"ShippingMapping\"\n",
    "'['\n",
    "'    {\"column\":\"event_id\",\"path\":\"$.event_id\"},'\n",
    "'    {\"column\":\"timestamp\",\"path\":\"$.timestamp\"},'\n",
    "'    {\"column\":\"event_type\",\"path\":\"$.event_type\"},'\n",
    "'    {\"column\":\"tracking_number\",\"path\":\"$.tracking_number\"},'\n",
    "'    {\"column\":\"shipment_id\",\"path\":\"$.shipment_id\"},'\n",
    "'    {\"column\":\"origin_location\",\"path\":\"$.origin_location\"},'\n",
    "'    {\"column\":\"destination_location\",\"path\":\"$.destination_location\"},'\n",
    "'    {\"column\":\"carrier\",\"path\":\"$.carrier\"},'\n",
    "'    {\"column\":\"package_weight\",\"path\":\"$.package_weight\"},'\n",
    "'    {\"column\":\"estimated_delivery\",\"path\":\"$.estimated_delivery\"},'\n",
    "'    {\"column\":\"actual_delivery\",\"path\":\"$.actual_delivery\"},'\n",
    "'    {\"column\":\"delay_minutes\",\"path\":\"$.delay_minutes\"},'\n",
    "'    {\"column\":\"status\",\"path\":\"$.status\"},'\n",
    "'    {\"column\":\"location_coordinates\",\"path\":\"$.location_coordinates\"}'\n",
    "']'"
   ]
  },
  {
   "cell_type": "code",
   "execution_count": null,
   "id": "25485e4b",
   "metadata": {},
   "outputs": [],
   "source": [
    "################################################################################################\n",
    "# Streaming Ingestion Policies - Enable real-time data ingestion\n",
    "################################################################################################\n",
    "\n",
    "print(\"🌊 Enabling streaming ingestion policies...\")"
   ]
  },
  {
   "cell_type": "code",
   "execution_count": null,
   "id": "00b3f163",
   "metadata": {},
   "outputs": [],
   "source": [
    "%%kql\n",
    "// Enable streaming ingestion for real-time data\n",
    ".alter table ClickstreamEvents policy streamingingestion enable\n",
    ".alter table ManufacturingTelemetry policy streamingingestion enable\n",
    ".alter table ShippingEvents policy streamingingestion enable\n",
    ".alter table AnomalyDetectionResults policy streamingingestion enable"
   ]
  },
  {
   "cell_type": "code",
   "execution_count": null,
   "id": "9bcaa569",
   "metadata": {},
   "outputs": [],
   "source": [
    "################################################################################################\n",
    "# Data Retention Policies - Set appropriate retention periods\n",
    "################################################################################################\n",
    "\n",
    "print(\"📅 Setting data retention policies...\")"
   ]
  },
  {
   "cell_type": "code",
   "execution_count": null,
   "id": "d29b8e42",
   "metadata": {},
   "outputs": [],
   "source": [
    "%%kql\n",
    "// Clickstream: 30-day retention as per architecture\n",
    ".alter table ClickstreamEvents policy retention '{\"SoftDeletePeriod\": \"30.00:00:00\", \"Recoverability\": \"Enabled\"}'\n",
    "\n",
    "// Manufacturing & Shipping: 90-day retention as per architecture  \n",
    ".alter table ManufacturingTelemetry policy retention '{\"SoftDeletePeriod\": \"90.00:00:00\", \"Recoverability\": \"Enabled\"}'\n",
    ".alter table ShippingEvents policy retention '{\"SoftDeletePeriod\": \"90.00:00:00\", \"Recoverability\": \"Enabled\"}'\n",
    "\n",
    "// Anomaly Results: 12-month retention as per architecture\n",
    ".alter table AnomalyDetectionResults policy retention '{\"SoftDeletePeriod\": \"365.00:00:00\", \"Recoverability\": \"Enabled\"}'\n",
    "\n",
    "// Reference tables: Long-term retention\n",
    ".alter table Sites policy retention '{\"SoftDeletePeriod\": \"3650.00:00:00\", \"Recoverability\": \"Enabled\"}'\n",
    ".alter table Assets policy retention '{\"SoftDeletePeriod\": \"3650.00:00:00\", \"Recoverability\": \"Enabled\"}'\n",
    ".alter table Carriers policy retention '{\"SoftDeletePeriod\": \"3650.00:00:00\", \"Recoverability\": \"Enabled\"}'"
   ]
  },
  {
   "cell_type": "code",
   "execution_count": null,
   "id": "80bbbbda",
   "metadata": {},
   "outputs": [],
   "source": [
    "################################################################################################\n",
    "# Deployment Verification - Validate all objects were created successfully\n",
    "################################################################################################\n",
    "\n",
    "print(\"🔍 Running deployment verification...\")"
   ]
  },
  {
   "cell_type": "code",
   "execution_count": null,
   "id": "aef0997d",
   "metadata": {},
   "outputs": [],
   "source": [
    "%%kql\n",
    ".show tables"
   ]
  },
  {
   "cell_type": "code",
   "execution_count": null,
   "id": "2bf8ea6c",
   "metadata": {},
   "outputs": [],
   "source": [
    "%%kql\n",
    ".show table ClickstreamEvents ingestion json mappings\n",
    ".show table ManufacturingTelemetry ingestion json mappings\n",
    ".show table ShippingEvents ingestion json mappings"
   ]
  },
  {
   "cell_type": "code",
   "execution_count": null,
   "id": "569c8789",
   "metadata": {},
   "outputs": [],
   "source": [
    "%%kql\n",
    ".show tables | count"
   ]
  },
  {
   "cell_type": "code",
   "execution_count": null,
   "id": "d0fd87a6",
   "metadata": {},
   "outputs": [],
   "source": [
    "# Final Success Confirmation\n",
    "print(\"🎉 SUCCESS: EventHouse schema deployment completed!\")\n",
    "print(f\"📊 EventHouse: {EVENTHOUSE_NAME}\")\n",
    "print(\"🗃️ Tables: 7 created (3 events + 3 reference + 1 analytics)\")\n",
    "print(\"🗂️ Mappings: 3 JSON ingestion mappings configured\")\n",
    "print(\"🌊 Policies: Streaming ingestion enabled\")\n",
    "print(\"📅 Retention: Configured per architecture (30d/90d/12m)\")\n",
    "print(\"\")\n",
    "print(\"📋 NEXT STEPS:\")\n",
    "print(\"1. Set up EventStream to connect simulators\")\n",
    "print(\"2. Configure Activator rules for alerts\")\n",
    "print(\"3. Create RTI dashboards\")\n",
    "print(\"4. Start data simulators\")"
   ]
  }
 ],
 "metadata": {
  "language_info": {
   "name": "python"
  }
 },
 "nbformat": 4,
 "nbformat_minor": 5
}
